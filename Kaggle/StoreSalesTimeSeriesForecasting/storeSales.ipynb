{
 "cells": [
  {
   "cell_type": "code",
   "execution_count": 1,
   "metadata": {},
   "outputs": [],
   "source": [
    "import numpy as np\n",
    "import pandas as pd\n",
    "import matplotlib.pyplot as plt\n",
    "import seaborn as sns\n"
   ]
  },
  {
   "cell_type": "code",
   "execution_count": 58,
   "metadata": {},
   "outputs": [],
   "source": [
    "train = pd.read_csv(\"train.csv\")\n",
    "test = pd.read_csv(\"test.csv\")\n",
    "oil = pd.read_csv(\"oil.csv\")\n",
    "holidays_events = pd.read_csv(\"holidays_events.csv\")\n",
    "stores = pd.read_csv(\"stores.csv\")\n",
    "transactions = pd.read_csv(\"transactions.csv\")\n"
   ]
  },
  {
   "cell_type": "code",
   "execution_count": 59,
   "metadata": {},
   "outputs": [
    {
     "data": {
      "text/html": [
       "<div>\n",
       "<style scoped>\n",
       "    .dataframe tbody tr th:only-of-type {\n",
       "        vertical-align: middle;\n",
       "    }\n",
       "\n",
       "    .dataframe tbody tr th {\n",
       "        vertical-align: top;\n",
       "    }\n",
       "\n",
       "    .dataframe thead th {\n",
       "        text-align: right;\n",
       "    }\n",
       "</style>\n",
       "<table border=\"1\" class=\"dataframe\">\n",
       "  <thead>\n",
       "    <tr style=\"text-align: right;\">\n",
       "      <th></th>\n",
       "      <th>date</th>\n",
       "      <th>dcoilwtico</th>\n",
       "    </tr>\n",
       "  </thead>\n",
       "  <tbody>\n",
       "    <tr>\n",
       "      <th>0</th>\n",
       "      <td>2013-01-01</td>\n",
       "      <td>93.14</td>\n",
       "    </tr>\n",
       "    <tr>\n",
       "      <th>1</th>\n",
       "      <td>2013-01-02</td>\n",
       "      <td>93.14</td>\n",
       "    </tr>\n",
       "    <tr>\n",
       "      <th>2</th>\n",
       "      <td>2013-01-03</td>\n",
       "      <td>92.97</td>\n",
       "    </tr>\n",
       "    <tr>\n",
       "      <th>3</th>\n",
       "      <td>2013-01-04</td>\n",
       "      <td>93.12</td>\n",
       "    </tr>\n",
       "    <tr>\n",
       "      <th>4</th>\n",
       "      <td>2013-01-07</td>\n",
       "      <td>93.20</td>\n",
       "    </tr>\n",
       "    <tr>\n",
       "      <th>...</th>\n",
       "      <td>...</td>\n",
       "      <td>...</td>\n",
       "    </tr>\n",
       "    <tr>\n",
       "      <th>1213</th>\n",
       "      <td>2017-08-25</td>\n",
       "      <td>47.65</td>\n",
       "    </tr>\n",
       "    <tr>\n",
       "      <th>1214</th>\n",
       "      <td>2017-08-28</td>\n",
       "      <td>46.40</td>\n",
       "    </tr>\n",
       "    <tr>\n",
       "      <th>1215</th>\n",
       "      <td>2017-08-29</td>\n",
       "      <td>46.46</td>\n",
       "    </tr>\n",
       "    <tr>\n",
       "      <th>1216</th>\n",
       "      <td>2017-08-30</td>\n",
       "      <td>45.96</td>\n",
       "    </tr>\n",
       "    <tr>\n",
       "      <th>1217</th>\n",
       "      <td>2017-08-31</td>\n",
       "      <td>47.26</td>\n",
       "    </tr>\n",
       "  </tbody>\n",
       "</table>\n",
       "<p>1218 rows × 2 columns</p>\n",
       "</div>"
      ],
      "text/plain": [
       "           date  dcoilwtico\n",
       "0    2013-01-01       93.14\n",
       "1    2013-01-02       93.14\n",
       "2    2013-01-03       92.97\n",
       "3    2013-01-04       93.12\n",
       "4    2013-01-07       93.20\n",
       "...         ...         ...\n",
       "1213 2017-08-25       47.65\n",
       "1214 2017-08-28       46.40\n",
       "1215 2017-08-29       46.46\n",
       "1216 2017-08-30       45.96\n",
       "1217 2017-08-31       47.26\n",
       "\n",
       "[1218 rows x 2 columns]"
      ]
     },
     "execution_count": 59,
     "metadata": {},
     "output_type": "execute_result"
    }
   ],
   "source": [
    "\n",
    "oil = oil.fillna(method='bfill')\n",
    "train['date'] = pd.to_datetime(train['date'])\n",
    "test['date'] = pd.to_datetime(test['date'])\n",
    "holidays_events['date'] = pd.to_datetime(holidays_events['date'])\n",
    "oil['date'] = pd.to_datetime(oil.date)\n",
    "\n",
    "oil"
   ]
  },
  {
   "cell_type": "code",
   "execution_count": 73,
   "metadata": {},
   "outputs": [],
   "source": [
    "def isNearEarthquake(row):\n",
    "    if row.month == 4 and row.year == 2016 and row.day >= 16: \n",
    "        print(1)\n",
    "        return 1\n",
    "    else:\n",
    "        return 0"
   ]
  },
  {
   "cell_type": "code",
   "execution_count": 83,
   "metadata": {},
   "outputs": [],
   "source": [
    "df = train.copy()\n",
    "df = pd.merge(train, stores, how='inner', on=['store_nbr', 'store_nbr'])\n",
    "df = pd.merge(df, oil, how='left', on=['date', 'date'])\n",
    "df['day'] = df.date.dt.day\n",
    "df['month'] = df.date.dt.month\n",
    "df['year'] = df.date.dt.year\n",
    "df['quarter'] = df.date.dt.quarter\n",
    "df['dcoilwtico'] = df['dcoilwtico'].interpolate()\n",
    "df['nearEarthquake'] = df['date'].apply(lambda row: 1 if row.month == 4 and row.year == 2016 and row.day >= 16 else 0)\n",
    "\n"
   ]
  },
  {
   "cell_type": "code",
   "execution_count": 84,
   "metadata": {},
   "outputs": [],
   "source": [
    "df['Holiday'] = df['date'].apply(lambda x: 1 if x in holidays_events.date and holidays_events['type'] in ['Holiday', 'Transfer', 'Additional'] else 0)"
   ]
  }
 ],
 "metadata": {
  "kernelspec": {
   "display_name": "Python 3.10.4 ('venv': venv)",
   "language": "python",
   "name": "python3"
  },
  "language_info": {
   "codemirror_mode": {
    "name": "ipython",
    "version": 3
   },
   "file_extension": ".py",
   "mimetype": "text/x-python",
   "name": "python",
   "nbconvert_exporter": "python",
   "pygments_lexer": "ipython3",
   "version": "3.10.4"
  },
  "orig_nbformat": 4,
  "vscode": {
   "interpreter": {
    "hash": "8f970bf2a70c5054d10be4882680b288e3838d7c544318ada3c46fbf86f06c81"
   }
  }
 },
 "nbformat": 4,
 "nbformat_minor": 2
}
