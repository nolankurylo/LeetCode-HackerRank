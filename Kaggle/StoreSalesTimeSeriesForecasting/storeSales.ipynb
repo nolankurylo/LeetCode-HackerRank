{
 "cells": [
  {
   "cell_type": "code",
   "execution_count": 1,
   "metadata": {},
   "outputs": [],
   "source": [
    "import numpy as np\n",
    "import pandas as pd\n",
    "import matplotlib.pyplot as plt\n",
    "import seaborn as sns\n",
    "import plotly.express as px\n",
    "from plotly.subplots import make_subplots\n",
    "import plotly.figure_factory as ff\n",
    "import plotly.offline as offline\n",
    "import plotly.graph_objs as go\n"
   ]
  },
  {
   "cell_type": "code",
   "execution_count": 2,
   "metadata": {},
   "outputs": [],
   "source": [
    "train = pd.read_csv(\"train.csv\")\n",
    "test = pd.read_csv(\"test.csv\")\n",
    "oil = pd.read_csv(\"oil.csv\")\n",
    "holidays_events = pd.read_csv(\"holidays_events.csv\")\n",
    "stores = pd.read_csv(\"stores.csv\")\n",
    "transactions = pd.read_csv(\"transactions.csv\")\n"
   ]
  },
  {
   "cell_type": "code",
   "execution_count": 3,
   "metadata": {},
   "outputs": [],
   "source": [
    "oil['date'] = pd.to_datetime(oil['date'])\n",
    "train['date'] = pd.to_datetime(train['date'])\n",
    "test['date'] = pd.to_datetime(test['date'])\n",
    "holidays_events['date'] = pd.to_datetime(holidays_events['date'])\n",
    "transactions['date'] = pd.to_datetime(transactions['date'])\n"
   ]
  },
  {
   "cell_type": "code",
   "execution_count": 4,
   "metadata": {},
   "outputs": [],
   "source": [
    "df_train = train.copy()\n",
    "# df_train = pd.merge(train, stores, how='inner', on='store_nbr')\n",
    "# df_train = pd.merge(df_train, oil, how='left', on='date')\n",
    "# df_train = pd.merge(df_train, holidays_events, how='left', on='date')\n",
    "# df_train = pd.merge(df_train, transactions, how='left', on=['date', 'store_nbr'])\n",
    "# df_train = df_train.rename(columns={'type_x' : 'store_type','type_y':'holiday_type'})\n",
    "\n",
    "\n",
    "df_train.date = pd.to_datetime(df_train.date)\n",
    "# df_train['day'] = df_train.date.dt.day\n",
    "# df_train['month'] = df_train.date.dt.month\n",
    "# df_train['year'] = df_train.date.dt.year\n",
    "# df_train['quarter'] = df_train.date.dt.quarter\n",
    "# df_train['dcoilwtico'] = df_train['dcoilwtico'].fillna(method='bfill')\n",
    "# df_train['transactions'] = df_train['transactions'].replace(np.nan,0)\n",
    "\n",
    "# df_train[['locale','locale_name', 'description']] = df_train[['locale','locale_name', 'description']].replace(np.nan,'')\n",
    "# df_train['transferred'] = df_train['transferred'].replace(np.nan,False)\n",
    "# df_train[['locale','locale_name', 'description']] = df_train[['locale','locale_name', 'description']].replace(np.nan,'')\n",
    "# df_train['holiday_type'] = df_train['holiday_type'].replace(np.nan,'WorkDay')\n",
    "# df_train['transferred'] = df_train['transferred'].replace(np.nan,False)"
   ]
  },
  {
   "cell_type": "code",
   "execution_count": 26,
   "metadata": {},
   "outputs": [
    {
     "data": {
      "text/plain": [
       "[<matplotlib.lines.Line2D at 0x29504f74820>]"
      ]
     },
     "execution_count": 26,
     "metadata": {},
     "output_type": "execute_result"
    },
    {
     "data": {
      "image/png": "[encoded data removed]",
      "text/plain": [
       "<Figure size 432x288 with 1 Axes>"
      ]
     },
     "metadata": {
      "needs_background": "light"
     },
     "output_type": "display_data"
    }
   ],
   "source": [
    "plt.plot(df_train[:10000]['date'], df_train[:10000]['sales'])"
   ]
  },
  {
   "cell_type": "code",
   "execution_count": 20,
   "metadata": {},
   "outputs": [],
   "source": [
    "from statsmodels.tsa.stattools import adfuller\n",
    "from statsmodels.graphics.tsaplots import plot_acf, plot_pacf\n",
    "\n",
    "def ADF_test(df):\n",
    "    result = adfuller(df['sales'].dropna(), autolag='AIC')\n",
    "    print('ADF Statistic: %f' % result[0])\n",
    "    print('p-value: %f' % result[1])\n",
    "    print(result)"
   ]
  },
  {
   "cell_type": "code",
   "execution_count": 22,
   "metadata": {},
   "outputs": [
    {
     "name": "stdout",
     "output_type": "stream",
     "text": [
      "ADF Statistic: -8.441406\n",
      "p-value: 0.000000\n",
      "(-8.441406011604053, 1.7591579134191443e-13, 38, 9961, {'1%': -3.4310066595695945, '5%': -2.861830204343065, '10%': -2.5669244706354584}, 148692.21573913711)\n"
     ]
    }
   ],
   "source": [
    "ADF_test(df_train[:10000])\n"
   ]
  },
  {
   "cell_type": "markdown",
   "metadata": {},
   "source": [
    "Seasonality"
   ]
  },
  {
   "cell_type": "code",
   "execution_count": 57,
   "metadata": {},
   "outputs": [
    {
     "data": {
      "text/plain": [
       "[<matplotlib.lines.Line2D at 0x1fc686048b0>]"
      ]
     },
     "execution_count": 57,
     "metadata": {},
     "output_type": "execute_result"
    },
    {
     "data": {
      "image/png": "[encoded data removed]",
      "text/plain": [
       "<Figure size 432x288 with 1 Axes>"
      ]
     },
     "metadata": {
      "needs_background": "light"
     },
     "output_type": "display_data"
    }
   ],
   "source": [
    "plt.plot(df_train['date'], df_train['sales'])"
   ]
  },
  {
   "cell_type": "code",
   "execution_count": 48,
   "metadata": {},
   "outputs": [
    {
     "data": {
      "text/plain": [
       "(array([], dtype=int64), array([], dtype=int64))"
      ]
     },
     "execution_count": 48,
     "metadata": {},
     "output_type": "execute_result"
    }
   ],
   "source": [
    "np.where(df_train.isna())"
   ]
  },
  {
   "cell_type": "code",
   "execution_count": 21,
   "metadata": {},
   "outputs": [
    {
     "ename": "NameError",
     "evalue": "name 'make_subplots' is not defined",
     "output_type": "error",
     "traceback": [
      "\u001b[1;31m---------------------------------------------------------------------------\u001b[0m",
      "\u001b[1;31mNameError\u001b[0m                                 Traceback (most recent call last)",
      "\u001b[1;32mc:\\Users\\kuryl_ekdrvd0\\Desktop\\code\\LeetCode-HackerRank\\Kaggle\\StoreSalesTimeSeriesForecasting\\storeSales.ipynb Cell 5\u001b[0m in \u001b[0;36m<cell line: 10>\u001b[1;34m()\u001b[0m\n\u001b[0;32m      <a href='vscode-notebook-cell:/c%3A/Users/kuryl_ekdrvd0/Desktop/code/LeetCode-HackerRank/Kaggle/StoreSalesTimeSeriesForecasting/storeSales.ipynb#ch0000012?line=2'>3</a>\u001b[0m moving_average \u001b[39m=\u001b[39m sales\u001b[39m.\u001b[39mrolling(\n\u001b[0;32m      <a href='vscode-notebook-cell:/c%3A/Users/kuryl_ekdrvd0/Desktop/code/LeetCode-HackerRank/Kaggle/StoreSalesTimeSeriesForecasting/storeSales.ipynb#ch0000012?line=3'>4</a>\u001b[0m     window\u001b[39m=\u001b[39m\u001b[39m365\u001b[39m,       \u001b[39m# 365-day window\u001b[39;00m\n\u001b[0;32m      <a href='vscode-notebook-cell:/c%3A/Users/kuryl_ekdrvd0/Desktop/code/LeetCode-HackerRank/Kaggle/StoreSalesTimeSeriesForecasting/storeSales.ipynb#ch0000012?line=4'>5</a>\u001b[0m     center\u001b[39m=\u001b[39m\u001b[39mTrue\u001b[39;00m,      \u001b[39m# puts the average at the center of the window\u001b[39;00m\n\u001b[0;32m      <a href='vscode-notebook-cell:/c%3A/Users/kuryl_ekdrvd0/Desktop/code/LeetCode-HackerRank/Kaggle/StoreSalesTimeSeriesForecasting/storeSales.ipynb#ch0000012?line=5'>6</a>\u001b[0m     min_periods\u001b[39m=\u001b[39m\u001b[39m183\u001b[39m,  \u001b[39m# choose about half the window size\u001b[39;00m\n\u001b[0;32m      <a href='vscode-notebook-cell:/c%3A/Users/kuryl_ekdrvd0/Desktop/code/LeetCode-HackerRank/Kaggle/StoreSalesTimeSeriesForecasting/storeSales.ipynb#ch0000012?line=6'>7</a>\u001b[0m )\u001b[39m.\u001b[39mmean()              \u001b[39m# compute the mean (could also do median, std, min, max, ...)\u001b[39;00m\n\u001b[0;32m      <a href='vscode-notebook-cell:/c%3A/Users/kuryl_ekdrvd0/Desktop/code/LeetCode-HackerRank/Kaggle/StoreSalesTimeSeriesForecasting/storeSales.ipynb#ch0000012?line=7'>8</a>\u001b[0m moving_average[\u001b[39m'\u001b[39m\u001b[39mdate\u001b[39m\u001b[39m'\u001b[39m] \u001b[39m=\u001b[39m sales\u001b[39m.\u001b[39mindex\n\u001b[1;32m---> <a href='vscode-notebook-cell:/c%3A/Users/kuryl_ekdrvd0/Desktop/code/LeetCode-HackerRank/Kaggle/StoreSalesTimeSeriesForecasting/storeSales.ipynb#ch0000012?line=9'>10</a>\u001b[0m fig \u001b[39m=\u001b[39m make_subplots(rows\u001b[39m=\u001b[39m\u001b[39m1\u001b[39m, cols\u001b[39m=\u001b[39m\u001b[39m1\u001b[39m, vertical_spacing\u001b[39m=\u001b[39m\u001b[39m0.08\u001b[39m,                    \n\u001b[0;32m     <a href='vscode-notebook-cell:/c%3A/Users/kuryl_ekdrvd0/Desktop/code/LeetCode-HackerRank/Kaggle/StoreSalesTimeSeriesForecasting/storeSales.ipynb#ch0000012?line=10'>11</a>\u001b[0m                     subplot_titles\u001b[39m=\u001b[39m(\u001b[39m\"\u001b[39m\u001b[39mSales 365 - Day Moving Average\u001b[39m\u001b[39m\"\u001b[39m))\n\u001b[0;32m     <a href='vscode-notebook-cell:/c%3A/Users/kuryl_ekdrvd0/Desktop/code/LeetCode-HackerRank/Kaggle/StoreSalesTimeSeriesForecasting/storeSales.ipynb#ch0000012?line=11'>12</a>\u001b[0m fig\u001b[39m.\u001b[39madd_trace(go\u001b[39m.\u001b[39mScatter(x\u001b[39m=\u001b[39msales\u001b[39m.\u001b[39mindex, y\u001b[39m=\u001b[39msales[\u001b[39m'\u001b[39m\u001b[39msales\u001b[39m\u001b[39m'\u001b[39m], mode\u001b[39m=\u001b[39m\u001b[39m'\u001b[39m\u001b[39mlines\u001b[39m\u001b[39m'\u001b[39m, fill\u001b[39m=\u001b[39m\u001b[39m'\u001b[39m\u001b[39mtozeroy\u001b[39m\u001b[39m'\u001b[39m, fillcolor\u001b[39m=\u001b[39m\u001b[39m'\u001b[39m\u001b[39m#c6ccd8\u001b[39m\u001b[39m'\u001b[39m,\n\u001b[0;32m     <a href='vscode-notebook-cell:/c%3A/Users/kuryl_ekdrvd0/Desktop/code/LeetCode-HackerRank/Kaggle/StoreSalesTimeSeriesForecasting/storeSales.ipynb#ch0000012?line=12'>13</a>\u001b[0m                      marker\u001b[39m=\u001b[39m\u001b[39mdict\u001b[39m(color\u001b[39m=\u001b[39m \u001b[39m'\u001b[39m\u001b[39m#334668\u001b[39m\u001b[39m'\u001b[39m), name\u001b[39m=\u001b[39m\u001b[39m'\u001b[39m\u001b[39m365-Day Moving Average\u001b[39m\u001b[39m'\u001b[39m))\n\u001b[0;32m     <a href='vscode-notebook-cell:/c%3A/Users/kuryl_ekdrvd0/Desktop/code/LeetCode-HackerRank/Kaggle/StoreSalesTimeSeriesForecasting/storeSales.ipynb#ch0000012?line=13'>14</a>\u001b[0m fig\u001b[39m.\u001b[39madd_trace(go\u001b[39m.\u001b[39mScatter(x\u001b[39m=\u001b[39mmoving_average\u001b[39m.\u001b[39mdate,y\u001b[39m=\u001b[39mmoving_average\u001b[39m.\u001b[39msales,mode\u001b[39m=\u001b[39m\u001b[39m'\u001b[39m\u001b[39mlines\u001b[39m\u001b[39m'\u001b[39m,name\u001b[39m=\u001b[39m\u001b[39m'\u001b[39m\u001b[39mTrend\u001b[39m\u001b[39m'\u001b[39m))\n",
      "\u001b[1;31mNameError\u001b[0m: name 'make_subplots' is not defined"
     ]
    }
   ],
   "source": [
    "sales = df_data[:train.shape[0]].groupby('date').agg({\"sales\" : \"mean\"}).reset_index()\n",
    "sales.set_index('date',inplace=True)\n",
    "moving_average = sales.rolling(\n",
    "    window=365,       # 365-day window\n",
    "    center=True,      # puts the average at the center of the window\n",
    "    min_periods=183,  # choose about half the window size\n",
    ").mean()              # compute the mean (could also do median, std, min, max, ...)\n",
    "moving_average['date'] = sales.index\n",
    "\n",
    "fig = make_subplots(rows=1, cols=1, vertical_spacing=0.08,                    \n",
    "                    subplot_titles=(\"Sales 365 - Day Moving Average\"))\n",
    "fig.add_trace(go.Scatter(x=sales.index, y=sales['sales'], mode='lines', fill='tozeroy', fillcolor='#c6ccd8',\n",
    "                     marker=dict(color= '#334668'), name='365-Day Moving Average'))\n",
    "fig.add_trace(go.Scatter(x=moving_average.date,y=moving_average.sales,mode='lines',name='Trend'))\n",
    "fig.update_layout(height=350, bargap=0.15,\n",
    "                  margin=dict(b=0,r=20,l=20), \n",
    "                  title_text=\"Sales trend during years\",\n",
    "                  template=\"plotly_white\",\n",
    "                  title_font=dict(size=25, color='#8a8d93', family=\"Lato, sans-serif\"),\n",
    "                  font=dict(color='#8a8d93'),\n",
    "                  hoverlabel=dict(bgcolor=\"#f2f2f2\", font_size=13, font_family=\"Lato, sans-serif\"),\n",
    "                  showlegend=False)\n",
    "fig.show()"
   ]
  }
 ],
 "metadata": {
  "kernelspec": {
   "display_name": "Python 3.10.4 ('venv': venv)",
   "language": "python",
   "name": "python3"
  },
  "language_info": {
   "codemirror_mode": {
    "name": "ipython",
    "version": 3
   },
   "file_extension": ".py",
   "mimetype": "text/x-python",
   "name": "python",
   "nbconvert_exporter": "python",
   "pygments_lexer": "ipython3",
   "version": "3.10.4"
  },
  "orig_nbformat": 4,
  "vscode": {
   "interpreter": {
    "hash": "8f970bf2a70c5054d10be4882680b288e3838d7c544318ada3c46fbf86f06c81"
   }
  }
 },
 "nbformat": 4,
 "nbformat_minor": 2
}
